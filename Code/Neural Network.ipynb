{
 "cells": [
  {
   "cell_type": "code",
   "execution_count": 1,
   "metadata": {},
   "outputs": [],
   "source": [
    "import numpy as np\n",
    "import matplotlib.pyplot as plt\n",
    "import networkx as nx"
   ]
  },
  {
   "cell_type": "code",
   "execution_count": 119,
   "metadata": {},
   "outputs": [],
   "source": [
    "class Network(object):\n",
    "    \"\"\"A network using Layer and Neuron\"\"\"\n",
    "    \n",
    "    def __init__(self, shape=[1,3,1]):\n",
    "        self.shape = shape # Layout of network\n",
    "        self.size = len(shape) # Number of layers\n",
    "        self.m = max(shape)\n",
    "        self.input_layer = Layer(shape[0], 0, self.m, \"x\")\n",
    "        self.hidden_layer = Layer(shape[1], 1, self.m, \"h\")\n",
    "        self.output_layer = Layer(shape[2], 2, self.m, \"o\")\n",
    "        self.layers = [self.input_layer, self.hidden_layer, self.output_layer]\n",
    "        \n",
    "\n",
    "    def plot(self, G):\n",
    "        for layer in self.layers:\n",
    "            for node in layer.nodes:\n",
    "                G.add_node(node.name, pos = node.pos, x = node.x)\n",
    "                pos = nx.get_node_attributes(G, 'pos')\n",
    "        nx.draw(G, pos=pos) \n",
    "        \n",
    "        for input_node in self.input_layer.nodes:\n",
    "            for hidden_node in self.hidden_layer.nodes:\n",
    "                G.add_edge(input_node.name, hidden_node.name)\n",
    "                for output_node in self.output_layer.nodes:\n",
    "                    G.add_edge(hidden_node.name, output_node.name)\n",
    "                    \n",
    "        nx.draw_networkx_edges(G, pos=pos)\n"
   ]
  },
  {
   "cell_type": "code",
   "execution_count": 127,
   "metadata": {},
   "outputs": [],
   "source": [
    "class Layer(object):\n",
    "    \"\"\"Sub class of Network\"\"\"\n",
    "    \n",
    "    def __init__(self, size, layer_pos, m, layer_name):\n",
    "        self.size = size\n",
    "        self.mid = int(m/2)\n",
    "        self.layer_pos = layer_pos\n",
    "        self.values = np.arange(self.size)\n",
    "        self.layer_name = layer_name\n",
    "        if self.size == 1:\n",
    "            y_vals = np.ones(self.size)\n",
    "        else:\n",
    "            y_vals = np.linspace(self.mid - self.size, self.size + self.mid, self.size)\n",
    "            \n",
    "        self.nodes = [Neuron(name = self.layer_name + str(k), pos = (self.layer_pos, y_vals[k])) for k in range(self.size)]\n",
    "        "
   ]
  },
  {
   "cell_type": "code",
   "execution_count": 128,
   "metadata": {},
   "outputs": [],
   "source": [
    "class Neuron(object):\n",
    "    \"\"\"A neuron to use in a neural network with multiple activation function options\"\"\"\n",
    "    \n",
    "    def __init__(self, name, pos,  x=0.0, af=\"sigmoid\"):\n",
    "        # Initialize variables \n",
    "        self.bias = np.random.uniform(0,1)\n",
    "        self.weights = np.random.uniform(0,1)\n",
    "        self.num = np.random.uniform(0,1)\n",
    "        self.x = x\n",
    "        self.af = af\n",
    "        self.pos = pos\n",
    "        self.name = name\n",
    "        \n",
    "    @staticmethod\n",
    "    def sigmoid(x):\n",
    "        # Sigmoid (activation) function\n",
    "        return 1.0 / (1.0 + np.exp(-x))\n",
    "        \n",
    "    @staticmethod\n",
    "    def relu(x):\n",
    "        # ReLU activation function \n",
    "        return np.maximum(0, x)\n",
    "    \n",
    "    def forward(self):\n",
    "        # Compute the forward output of the neuron\n",
    "        # Summation of (input array (x) * weights) + bias\n",
    "        summ = np.sum(self.x * self.weights) + self.bias\n",
    "        \n",
    "        if self.af == \"sigmoid\":\n",
    "            # Compute sigmoid of summ.\n",
    "            self.num = self.sigmoid(summ)\n",
    "            \n",
    "        if self.af == \"ReLU\":\n",
    "            # Compute the ReLU (Rectifier) of summ.\n",
    "            self.num = self.relu(summ)\n",
    "            \n",
    "        return self.num\n",
    "    "
   ]
  },
  {
   "cell_type": "code",
   "execution_count": 129,
   "metadata": {},
   "outputs": [],
   "source": [
    "Norm = Network()\n",
    "G = nx.Graph()"
   ]
  },
  {
   "cell_type": "code",
   "execution_count": 130,
   "metadata": {},
   "outputs": [
    {
     "data": {
      "image/png": "[encoded data removed]",
      "text/plain": [
       "<Figure size 432x288 with 1 Axes>"
      ]
     },
     "metadata": {},
     "output_type": "display_data"
    }
   ],
   "source": [
    "Norm.plot(G)"
   ]
  },
  {
   "cell_type": "code",
   "execution_count": null,
   "metadata": {},
   "outputs": [],
   "source": [
    "# Create input layer.\n",
    "n = 4\n",
    "x = np.random.uniform(0,1,size=n)\n",
    "\n",
    "# Creating first layer of network.\n",
    "n1 = Neuron(x)\n",
    "n2 = Neuron(x)\n",
    "n3 = Neuron(x)"
   ]
  },
  {
   "cell_type": "code",
   "execution_count": null,
   "metadata": {},
   "outputs": [],
   "source": [
    "# Calculating outputs from the first three neurons\n",
    "x_2 = np.array([n1.forward(), n2.forward(), n3.forward()])\n",
    "x_2"
   ]
  },
  {
   "cell_type": "code",
   "execution_count": null,
   "metadata": {},
   "outputs": [],
   "source": [
    "# Create second layer of neurons using previous layers data\n",
    "n4 = Neuron(x_2)\n",
    "n5 = Neuron(x_2)\n",
    "n6 = Neuron(x_2)"
   ]
  },
  {
   "cell_type": "code",
   "execution_count": null,
   "metadata": {},
   "outputs": [],
   "source": [
    "# Calculating outputs of the second layer of neurons\n",
    "x_3 = np.array([n4.forward(), n5.forward(), n6.forward()])\n",
    "x_3"
   ]
  },
  {
   "cell_type": "code",
   "execution_count": null,
   "metadata": {},
   "outputs": [],
   "source": [
    "n7 = Neuron(x_3)"
   ]
  },
  {
   "cell_type": "code",
   "execution_count": null,
   "metadata": {},
   "outputs": [],
   "source": [
    "n7.forward()"
   ]
  },
  {
   "cell_type": "code",
   "execution_count": null,
   "metadata": {},
   "outputs": [],
   "source": [
    "n7.add_to_network()"
   ]
  }
 ],
 "metadata": {
  "kernelspec": {
   "display_name": "Python 3",
   "language": "python",
   "name": "python3"
  },
  "language_info": {
   "codemirror_mode": {
    "name": "ipython",
    "version": 3
   },
   "file_extension": ".py",
   "mimetype": "text/x-python",
   "name": "python",
   "nbconvert_exporter": "python",
   "pygments_lexer": "ipython3",
   "version": "3.9.1"
  }
 },
 "nbformat": 4,
 "nbformat_minor": 2
}
